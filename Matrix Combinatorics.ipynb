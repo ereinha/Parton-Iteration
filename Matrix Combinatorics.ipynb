{
 "cells": [
  {
   "cell_type": "code",
   "execution_count": 1,
   "id": "6fa66438",
   "metadata": {},
   "outputs": [
    {
     "name": "stdout",
     "output_type": "stream",
     "text": [
      "Combinatorics arleady exists\n"
     ]
    }
   ],
   "source": [
    "import Combinatorics as comb"
   ]
  },
  {
   "cell_type": "code",
   "execution_count": 2,
   "id": "29e56f21",
   "metadata": {},
   "outputs": [
    {
     "name": "stdout",
     "output_type": "stream",
     "text": [
      "partons: 1\n",
      "jets: 2\n",
      "partons: 2\n",
      "jets: 4\n",
      "partons: 8\n",
      "jets: 16\n",
      "partons: 16\n",
      "jets: 32\n",
      "partons: 1\n",
      "jets: 2\n",
      "partons: 2\n",
      "jets: 4\n",
      "partons: 8\n",
      "jets: 16\n",
      "partons: 16\n",
      "jets: 32\n",
      "partons: 1\n",
      "jets: 2\n",
      "partons: 2\n",
      "jets: 4\n",
      "partons: 8\n",
      "jets: 16\n",
      "partons: 16\n",
      "jets: 32\n",
      "partons: 1\n",
      "jets: 2\n",
      "partons: 2\n",
      "jets: 4\n",
      "partons: 8\n",
      "jets: 16\n",
      "partons: 16\n",
      "jets: 32\n",
      "partons: 1\n",
      "jets: 2\n",
      "partons: 2\n",
      "jets: 4\n",
      "partons: 8\n",
      "jets: 16\n",
      "partons: 16\n",
      "jets: 32\n",
      "partons: 1\n",
      "jets: 2\n",
      "partons: 2\n",
      "jets: 4\n",
      "partons: 8\n",
      "jets: 16\n",
      "partons: 16\n",
      "jets: 32\n"
     ]
    }
   ],
   "source": [
    "stds = [0.15, 0.25, .35]\n",
    "partons = [1,2,8,16]\n",
    "jets = [2,4,16,32]\n",
    "for std in stds:\n",
    "    comb.run_models_and_plot(std, parts=partons, js=jets, dist='bimodal')\n",
    "for std in stds:\n",
    "    comb.run_models_and_plot(std, parts=partons, js=jets)"
   ]
  },
  {
   "cell_type": "code",
   "execution_count": null,
   "id": "72fe529c",
   "metadata": {},
   "outputs": [],
   "source": []
  }
 ],
 "metadata": {
  "kernelspec": {
   "display_name": "pytorch2",
   "language": "python",
   "name": "pytorch2"
  },
  "language_info": {
   "codemirror_mode": {
    "name": "ipython",
    "version": 3
   },
   "file_extension": ".py",
   "mimetype": "text/x-python",
   "name": "python",
   "nbconvert_exporter": "python",
   "pygments_lexer": "ipython3",
   "version": "3.11.0"
  }
 },
 "nbformat": 4,
 "nbformat_minor": 5
}
